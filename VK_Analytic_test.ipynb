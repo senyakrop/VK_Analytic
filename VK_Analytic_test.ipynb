{
 "cells": [
  {
   "cell_type": "code",
   "execution_count": 210,
   "id": "072ba19a",
   "metadata": {},
   "outputs": [],
   "source": [
    "import pandas as pd\n",
    "import numpy as np\n",
    "import matplotlib.pyplot as plt"
   ]
  },
  {
   "cell_type": "markdown",
   "id": "ba2fb499",
   "metadata": {},
   "source": [
    "### Спарсим данные и посмотрим на них, предобработаем немножко:"
   ]
  },
  {
   "cell_type": "code",
   "execution_count": 125,
   "id": "763112d7",
   "metadata": {},
   "outputs": [],
   "source": [
    "df = pd.read_excel(io='Analytic_test.xlsx', sheet_name='Analytic_test', header=1, index_col=0)"
   ]
  },
  {
   "cell_type": "code",
   "execution_count": 126,
   "id": "4da20051",
   "metadata": {},
   "outputs": [
    {
     "data": {
      "text/html": [
       "<div>\n",
       "<style scoped>\n",
       "    .dataframe tbody tr th:only-of-type {\n",
       "        vertical-align: middle;\n",
       "    }\n",
       "\n",
       "    .dataframe tbody tr th {\n",
       "        vertical-align: top;\n",
       "    }\n",
       "\n",
       "    .dataframe thead th {\n",
       "        text-align: right;\n",
       "    }\n",
       "</style>\n",
       "<table border=\"1\" class=\"dataframe\">\n",
       "  <thead>\n",
       "    <tr style=\"text-align: right;\">\n",
       "      <th></th>\n",
       "      <th>HID</th>\n",
       "      <th>active_Red</th>\n",
       "      <th>has_Green_id</th>\n",
       "      <th>has_Black_id</th>\n",
       "      <th>has_Blue_id</th>\n",
       "      <th>Blue_activity_count</th>\n",
       "      <th>Blue_gmv_total</th>\n",
       "      <th>Green_gvm_total</th>\n",
       "      <th>Green_gvm_order_count</th>\n",
       "      <th>Black_gvm_total</th>\n",
       "      <th>...</th>\n",
       "      <th>Blue_android</th>\n",
       "      <th>Red_apple</th>\n",
       "      <th>Green_apple</th>\n",
       "      <th>Black_apple</th>\n",
       "      <th>Blue_apple</th>\n",
       "      <th>is_msk</th>\n",
       "      <th>Red_web</th>\n",
       "      <th>Green_web</th>\n",
       "      <th>Black_web</th>\n",
       "      <th>Blue_web</th>\n",
       "    </tr>\n",
       "  </thead>\n",
       "  <tbody>\n",
       "    <tr>\n",
       "      <th>0</th>\n",
       "      <td>00003c7fb5e57ce673f1801f3679f5c25</td>\n",
       "      <td>0.0</td>\n",
       "      <td>0.0</td>\n",
       "      <td>0.0</td>\n",
       "      <td>1.0</td>\n",
       "      <td>2.0</td>\n",
       "      <td>0.0</td>\n",
       "      <td>0.0</td>\n",
       "      <td>0.0</td>\n",
       "      <td>0.0</td>\n",
       "      <td>...</td>\n",
       "      <td>0.0</td>\n",
       "      <td>0.0</td>\n",
       "      <td>0.0</td>\n",
       "      <td>0.0</td>\n",
       "      <td>0.0</td>\n",
       "      <td>0.0</td>\n",
       "      <td>0.0</td>\n",
       "      <td>0.0</td>\n",
       "      <td>0.0</td>\n",
       "      <td>0.0</td>\n",
       "    </tr>\n",
       "    <tr>\n",
       "      <th>1</th>\n",
       "      <td>00006b602533083e3bebfcbff08613931</td>\n",
       "      <td>1.0</td>\n",
       "      <td>0.0</td>\n",
       "      <td>0.0</td>\n",
       "      <td>0.0</td>\n",
       "      <td>0.0</td>\n",
       "      <td>0.0</td>\n",
       "      <td>0.0</td>\n",
       "      <td>0.0</td>\n",
       "      <td>0.0</td>\n",
       "      <td>...</td>\n",
       "      <td>0.0</td>\n",
       "      <td>0.0</td>\n",
       "      <td>0.0</td>\n",
       "      <td>0.0</td>\n",
       "      <td>0.0</td>\n",
       "      <td>0.0</td>\n",
       "      <td>1.0</td>\n",
       "      <td>0.0</td>\n",
       "      <td>0.0</td>\n",
       "      <td>0.0</td>\n",
       "    </tr>\n",
       "    <tr>\n",
       "      <th>2</th>\n",
       "      <td>0000736c3f76339196cb1cc759b8363b</td>\n",
       "      <td>1.0</td>\n",
       "      <td>0.0</td>\n",
       "      <td>0.0</td>\n",
       "      <td>0.0</td>\n",
       "      <td>0.0</td>\n",
       "      <td>0.0</td>\n",
       "      <td>0.0</td>\n",
       "      <td>0.0</td>\n",
       "      <td>0.0</td>\n",
       "      <td>...</td>\n",
       "      <td>0.0</td>\n",
       "      <td>1.0</td>\n",
       "      <td>0.0</td>\n",
       "      <td>1.0</td>\n",
       "      <td>0.0</td>\n",
       "      <td>0.0</td>\n",
       "      <td>0.0</td>\n",
       "      <td>0.0</td>\n",
       "      <td>0.0</td>\n",
       "      <td>0.0</td>\n",
       "    </tr>\n",
       "    <tr>\n",
       "      <th>3</th>\n",
       "      <td>00009bdcc5307b38efde8690b8bd658e</td>\n",
       "      <td>0.0</td>\n",
       "      <td>0.0</td>\n",
       "      <td>0.0</td>\n",
       "      <td>0.0</td>\n",
       "      <td>0.0</td>\n",
       "      <td>0.0</td>\n",
       "      <td>0.0</td>\n",
       "      <td>0.0</td>\n",
       "      <td>0.0</td>\n",
       "      <td>...</td>\n",
       "      <td>0.0</td>\n",
       "      <td>0.0</td>\n",
       "      <td>0.0</td>\n",
       "      <td>0.0</td>\n",
       "      <td>0.0</td>\n",
       "      <td>0.0</td>\n",
       "      <td>1.0</td>\n",
       "      <td>0.0</td>\n",
       "      <td>0.0</td>\n",
       "      <td>0.0</td>\n",
       "    </tr>\n",
       "    <tr>\n",
       "      <th>4</th>\n",
       "      <td>0000bc3186b7b31d9b35d3fbbb250b9f8</td>\n",
       "      <td>1.0</td>\n",
       "      <td>0.0</td>\n",
       "      <td>0.0</td>\n",
       "      <td>0.0</td>\n",
       "      <td>0.0</td>\n",
       "      <td>0.0</td>\n",
       "      <td>0.0</td>\n",
       "      <td>0.0</td>\n",
       "      <td>0.0</td>\n",
       "      <td>...</td>\n",
       "      <td>0.0</td>\n",
       "      <td>1.0</td>\n",
       "      <td>0.0</td>\n",
       "      <td>0.0</td>\n",
       "      <td>0.0</td>\n",
       "      <td>0.0</td>\n",
       "      <td>0.0</td>\n",
       "      <td>0.0</td>\n",
       "      <td>0.0</td>\n",
       "      <td>0.0</td>\n",
       "    </tr>\n",
       "    <tr>\n",
       "      <th>...</th>\n",
       "      <td>...</td>\n",
       "      <td>...</td>\n",
       "      <td>...</td>\n",
       "      <td>...</td>\n",
       "      <td>...</td>\n",
       "      <td>...</td>\n",
       "      <td>...</td>\n",
       "      <td>...</td>\n",
       "      <td>...</td>\n",
       "      <td>...</td>\n",
       "      <td>...</td>\n",
       "      <td>...</td>\n",
       "      <td>...</td>\n",
       "      <td>...</td>\n",
       "      <td>...</td>\n",
       "      <td>...</td>\n",
       "      <td>...</td>\n",
       "      <td>...</td>\n",
       "      <td>...</td>\n",
       "      <td>...</td>\n",
       "      <td>...</td>\n",
       "    </tr>\n",
       "    <tr>\n",
       "      <th>99995</th>\n",
       "      <td>32555ec33d762588db3253b063525f03b58f</td>\n",
       "      <td>0.0</td>\n",
       "      <td>0.0</td>\n",
       "      <td>0.0</td>\n",
       "      <td>0.0</td>\n",
       "      <td>0.0</td>\n",
       "      <td>0.0</td>\n",
       "      <td>0.0</td>\n",
       "      <td>0.0</td>\n",
       "      <td>0.0</td>\n",
       "      <td>...</td>\n",
       "      <td>0.0</td>\n",
       "      <td>0.0</td>\n",
       "      <td>0.0</td>\n",
       "      <td>0.0</td>\n",
       "      <td>0.0</td>\n",
       "      <td>1.0</td>\n",
       "      <td>1.0</td>\n",
       "      <td>0.0</td>\n",
       "      <td>0.0</td>\n",
       "      <td>0.0</td>\n",
       "    </tr>\n",
       "    <tr>\n",
       "      <th>99996</th>\n",
       "      <td>3255600b525b2598b37775fb3b25b3397bbb</td>\n",
       "      <td>1.0</td>\n",
       "      <td>0.0</td>\n",
       "      <td>0.0</td>\n",
       "      <td>0.0</td>\n",
       "      <td>0.0</td>\n",
       "      <td>0.0</td>\n",
       "      <td>0.0</td>\n",
       "      <td>0.0</td>\n",
       "      <td>0.0</td>\n",
       "      <td>...</td>\n",
       "      <td>0.0</td>\n",
       "      <td>0.0</td>\n",
       "      <td>0.0</td>\n",
       "      <td>0.0</td>\n",
       "      <td>0.0</td>\n",
       "      <td>0.0</td>\n",
       "      <td>1.0</td>\n",
       "      <td>0.0</td>\n",
       "      <td>0.0</td>\n",
       "      <td>0.0</td>\n",
       "    </tr>\n",
       "    <tr>\n",
       "      <th>99997</th>\n",
       "      <td>325563dbbb35c393be38c5c79373ed180</td>\n",
       "      <td>1.0</td>\n",
       "      <td>0.0</td>\n",
       "      <td>0.0</td>\n",
       "      <td>0.0</td>\n",
       "      <td>0.0</td>\n",
       "      <td>0.0</td>\n",
       "      <td>0.0</td>\n",
       "      <td>0.0</td>\n",
       "      <td>0.0</td>\n",
       "      <td>...</td>\n",
       "      <td>0.0</td>\n",
       "      <td>0.0</td>\n",
       "      <td>0.0</td>\n",
       "      <td>0.0</td>\n",
       "      <td>0.0</td>\n",
       "      <td>0.0</td>\n",
       "      <td>0.0</td>\n",
       "      <td>0.0</td>\n",
       "      <td>0.0</td>\n",
       "      <td>0.0</td>\n",
       "    </tr>\n",
       "    <tr>\n",
       "      <th>99998</th>\n",
       "      <td>3255650825570bcc93bc9b076b0bfbb25e6</td>\n",
       "      <td>0.0</td>\n",
       "      <td>0.0</td>\n",
       "      <td>0.0</td>\n",
       "      <td>0.0</td>\n",
       "      <td>0.0</td>\n",
       "      <td>0.0</td>\n",
       "      <td>0.0</td>\n",
       "      <td>0.0</td>\n",
       "      <td>0.0</td>\n",
       "      <td>...</td>\n",
       "      <td>0.0</td>\n",
       "      <td>0.0</td>\n",
       "      <td>0.0</td>\n",
       "      <td>0.0</td>\n",
       "      <td>0.0</td>\n",
       "      <td>0.0</td>\n",
       "      <td>1.0</td>\n",
       "      <td>0.0</td>\n",
       "      <td>0.0</td>\n",
       "      <td>0.0</td>\n",
       "    </tr>\n",
       "    <tr>\n",
       "      <th>99999</th>\n",
       "      <td>325566ec18c0db59083f5f6bb1b5f93d5</td>\n",
       "      <td>0.0</td>\n",
       "      <td>0.0</td>\n",
       "      <td>0.0</td>\n",
       "      <td>0.0</td>\n",
       "      <td>0.0</td>\n",
       "      <td>0.0</td>\n",
       "      <td>0.0</td>\n",
       "      <td>0.0</td>\n",
       "      <td>0.0</td>\n",
       "      <td>...</td>\n",
       "      <td>0.0</td>\n",
       "      <td>0.0</td>\n",
       "      <td>0.0</td>\n",
       "      <td>0.0</td>\n",
       "      <td>0.0</td>\n",
       "      <td>0.0</td>\n",
       "      <td>1.0</td>\n",
       "      <td>0.0</td>\n",
       "      <td>0.0</td>\n",
       "      <td>0.0</td>\n",
       "    </tr>\n",
       "  </tbody>\n",
       "</table>\n",
       "<p>100000 rows × 24 columns</p>\n",
       "</div>"
      ],
      "text/plain": [
       "                                        HID  active_Red  has_Green_id  \\\n",
       "0         00003c7fb5e57ce673f1801f3679f5c25         0.0           0.0   \n",
       "1         00006b602533083e3bebfcbff08613931         1.0           0.0   \n",
       "2          0000736c3f76339196cb1cc759b8363b         1.0           0.0   \n",
       "3          00009bdcc5307b38efde8690b8bd658e         0.0           0.0   \n",
       "4         0000bc3186b7b31d9b35d3fbbb250b9f8         1.0           0.0   \n",
       "...                                     ...         ...           ...   \n",
       "99995  32555ec33d762588db3253b063525f03b58f         0.0           0.0   \n",
       "99996  3255600b525b2598b37775fb3b25b3397bbb         1.0           0.0   \n",
       "99997     325563dbbb35c393be38c5c79373ed180         1.0           0.0   \n",
       "99998   3255650825570bcc93bc9b076b0bfbb25e6         0.0           0.0   \n",
       "99999     325566ec18c0db59083f5f6bb1b5f93d5         0.0           0.0   \n",
       "\n",
       "       has_Black_id  has_Blue_id Blue_activity_count  Blue_gmv_total  \\\n",
       "0               0.0          1.0                 2.0             0.0   \n",
       "1               0.0          0.0                 0.0             0.0   \n",
       "2               0.0          0.0                 0.0             0.0   \n",
       "3               0.0          0.0                 0.0             0.0   \n",
       "4               0.0          0.0                 0.0             0.0   \n",
       "...             ...          ...                 ...             ...   \n",
       "99995           0.0          0.0                 0.0             0.0   \n",
       "99996           0.0          0.0                 0.0             0.0   \n",
       "99997           0.0          0.0                 0.0             0.0   \n",
       "99998           0.0          0.0                 0.0             0.0   \n",
       "99999           0.0          0.0                 0.0             0.0   \n",
       "\n",
       "       Green_gvm_total Green_gvm_order_count  Black_gvm_total  ...  \\\n",
       "0                  0.0                   0.0              0.0  ...   \n",
       "1                  0.0                   0.0              0.0  ...   \n",
       "2                  0.0                   0.0              0.0  ...   \n",
       "3                  0.0                   0.0              0.0  ...   \n",
       "4                  0.0                   0.0              0.0  ...   \n",
       "...                ...                   ...              ...  ...   \n",
       "99995              0.0                   0.0              0.0  ...   \n",
       "99996              0.0                   0.0              0.0  ...   \n",
       "99997              0.0                   0.0              0.0  ...   \n",
       "99998              0.0                   0.0              0.0  ...   \n",
       "99999              0.0                   0.0              0.0  ...   \n",
       "\n",
       "      Blue_android  Red_apple  Green_apple  Black_apple  Blue_apple  is_msk  \\\n",
       "0              0.0        0.0          0.0          0.0         0.0     0.0   \n",
       "1              0.0        0.0          0.0          0.0         0.0     0.0   \n",
       "2              0.0        1.0          0.0          1.0         0.0     0.0   \n",
       "3              0.0        0.0          0.0          0.0         0.0     0.0   \n",
       "4              0.0        1.0          0.0          0.0         0.0     0.0   \n",
       "...            ...        ...          ...          ...         ...     ...   \n",
       "99995          0.0        0.0          0.0          0.0         0.0     1.0   \n",
       "99996          0.0        0.0          0.0          0.0         0.0     0.0   \n",
       "99997          0.0        0.0          0.0          0.0         0.0     0.0   \n",
       "99998          0.0        0.0          0.0          0.0         0.0     0.0   \n",
       "99999          0.0        0.0          0.0          0.0         0.0     0.0   \n",
       "\n",
       "       Red_web  Green_web  Black_web  Blue_web  \n",
       "0          0.0        0.0        0.0       0.0  \n",
       "1          1.0        0.0        0.0       0.0  \n",
       "2          0.0        0.0        0.0       0.0  \n",
       "3          1.0        0.0        0.0       0.0  \n",
       "4          0.0        0.0        0.0       0.0  \n",
       "...        ...        ...        ...       ...  \n",
       "99995      1.0        0.0        0.0       0.0  \n",
       "99996      1.0        0.0        0.0       0.0  \n",
       "99997      0.0        0.0        0.0       0.0  \n",
       "99998      1.0        0.0        0.0       0.0  \n",
       "99999      1.0        0.0        0.0       0.0  \n",
       "\n",
       "[100000 rows x 24 columns]"
      ]
     },
     "execution_count": 126,
     "metadata": {},
     "output_type": "execute_result"
    }
   ],
   "source": [
    "df"
   ]
  },
  {
   "cell_type": "code",
   "execution_count": 127,
   "id": "38004921",
   "metadata": {},
   "outputs": [
    {
     "data": {
      "text/html": [
       "<div>\n",
       "<style scoped>\n",
       "    .dataframe tbody tr th:only-of-type {\n",
       "        vertical-align: middle;\n",
       "    }\n",
       "\n",
       "    .dataframe tbody tr th {\n",
       "        vertical-align: top;\n",
       "    }\n",
       "\n",
       "    .dataframe thead th {\n",
       "        text-align: right;\n",
       "    }\n",
       "</style>\n",
       "<table border=\"1\" class=\"dataframe\">\n",
       "  <thead>\n",
       "    <tr style=\"text-align: right;\">\n",
       "      <th></th>\n",
       "      <th>active_Red</th>\n",
       "      <th>has_Green_id</th>\n",
       "      <th>has_Black_id</th>\n",
       "      <th>has_Blue_id</th>\n",
       "      <th>Blue_gmv_total</th>\n",
       "      <th>Green_gvm_total</th>\n",
       "      <th>Black_gvm_total</th>\n",
       "      <th>Red_android</th>\n",
       "      <th>Green_android</th>\n",
       "      <th>Black_android</th>\n",
       "      <th>Blue_android</th>\n",
       "      <th>Red_apple</th>\n",
       "      <th>Green_apple</th>\n",
       "      <th>Black_apple</th>\n",
       "      <th>Blue_apple</th>\n",
       "      <th>is_msk</th>\n",
       "      <th>Red_web</th>\n",
       "      <th>Green_web</th>\n",
       "      <th>Black_web</th>\n",
       "      <th>Blue_web</th>\n",
       "    </tr>\n",
       "  </thead>\n",
       "  <tbody>\n",
       "    <tr>\n",
       "      <th>count</th>\n",
       "      <td>100000.00000</td>\n",
       "      <td>100000.000000</td>\n",
       "      <td>100000.000000</td>\n",
       "      <td>100000.000000</td>\n",
       "      <td>99999.000000</td>\n",
       "      <td>100000.000000</td>\n",
       "      <td>100000.000000</td>\n",
       "      <td>100000.00000</td>\n",
       "      <td>100000.00000</td>\n",
       "      <td>100000.000000</td>\n",
       "      <td>100000.000000</td>\n",
       "      <td>100000.000000</td>\n",
       "      <td>100000.000000</td>\n",
       "      <td>100000.000000</td>\n",
       "      <td>100000.00000</td>\n",
       "      <td>100000.000000</td>\n",
       "      <td>100000.000000</td>\n",
       "      <td>100000.000000</td>\n",
       "      <td>100000.000000</td>\n",
       "      <td>100000.00000</td>\n",
       "    </tr>\n",
       "    <tr>\n",
       "      <th>mean</th>\n",
       "      <td>0.55874</td>\n",
       "      <td>0.008900</td>\n",
       "      <td>0.010840</td>\n",
       "      <td>0.138010</td>\n",
       "      <td>2.461165</td>\n",
       "      <td>59.934200</td>\n",
       "      <td>94.873080</td>\n",
       "      <td>0.32133</td>\n",
       "      <td>0.00546</td>\n",
       "      <td>0.010770</td>\n",
       "      <td>0.080470</td>\n",
       "      <td>0.108740</td>\n",
       "      <td>0.006160</td>\n",
       "      <td>0.017820</td>\n",
       "      <td>0.04646</td>\n",
       "      <td>0.119210</td>\n",
       "      <td>0.671080</td>\n",
       "      <td>0.001980</td>\n",
       "      <td>0.014610</td>\n",
       "      <td>0.10640</td>\n",
       "    </tr>\n",
       "    <tr>\n",
       "      <th>std</th>\n",
       "      <td>0.49654</td>\n",
       "      <td>0.094344</td>\n",
       "      <td>0.104032</td>\n",
       "      <td>0.360645</td>\n",
       "      <td>126.674718</td>\n",
       "      <td>1230.671036</td>\n",
       "      <td>1699.422723</td>\n",
       "      <td>0.46699</td>\n",
       "      <td>0.07369</td>\n",
       "      <td>0.103219</td>\n",
       "      <td>0.272021</td>\n",
       "      <td>0.311314</td>\n",
       "      <td>0.078244</td>\n",
       "      <td>0.132297</td>\n",
       "      <td>0.21048</td>\n",
       "      <td>0.324037</td>\n",
       "      <td>0.469823</td>\n",
       "      <td>0.044453</td>\n",
       "      <td>0.119986</td>\n",
       "      <td>0.30835</td>\n",
       "    </tr>\n",
       "    <tr>\n",
       "      <th>min</th>\n",
       "      <td>0.00000</td>\n",
       "      <td>0.000000</td>\n",
       "      <td>0.000000</td>\n",
       "      <td>0.000000</td>\n",
       "      <td>0.000000</td>\n",
       "      <td>0.000000</td>\n",
       "      <td>0.000000</td>\n",
       "      <td>0.00000</td>\n",
       "      <td>0.00000</td>\n",
       "      <td>0.000000</td>\n",
       "      <td>0.000000</td>\n",
       "      <td>0.000000</td>\n",
       "      <td>0.000000</td>\n",
       "      <td>0.000000</td>\n",
       "      <td>0.00000</td>\n",
       "      <td>0.000000</td>\n",
       "      <td>0.000000</td>\n",
       "      <td>0.000000</td>\n",
       "      <td>0.000000</td>\n",
       "      <td>0.00000</td>\n",
       "    </tr>\n",
       "    <tr>\n",
       "      <th>25%</th>\n",
       "      <td>0.00000</td>\n",
       "      <td>0.000000</td>\n",
       "      <td>0.000000</td>\n",
       "      <td>0.000000</td>\n",
       "      <td>0.000000</td>\n",
       "      <td>0.000000</td>\n",
       "      <td>0.000000</td>\n",
       "      <td>0.00000</td>\n",
       "      <td>0.00000</td>\n",
       "      <td>0.000000</td>\n",
       "      <td>0.000000</td>\n",
       "      <td>0.000000</td>\n",
       "      <td>0.000000</td>\n",
       "      <td>0.000000</td>\n",
       "      <td>0.00000</td>\n",
       "      <td>0.000000</td>\n",
       "      <td>0.000000</td>\n",
       "      <td>0.000000</td>\n",
       "      <td>0.000000</td>\n",
       "      <td>0.00000</td>\n",
       "    </tr>\n",
       "    <tr>\n",
       "      <th>50%</th>\n",
       "      <td>1.00000</td>\n",
       "      <td>0.000000</td>\n",
       "      <td>0.000000</td>\n",
       "      <td>0.000000</td>\n",
       "      <td>0.000000</td>\n",
       "      <td>0.000000</td>\n",
       "      <td>0.000000</td>\n",
       "      <td>0.00000</td>\n",
       "      <td>0.00000</td>\n",
       "      <td>0.000000</td>\n",
       "      <td>0.000000</td>\n",
       "      <td>0.000000</td>\n",
       "      <td>0.000000</td>\n",
       "      <td>0.000000</td>\n",
       "      <td>0.00000</td>\n",
       "      <td>0.000000</td>\n",
       "      <td>1.000000</td>\n",
       "      <td>0.000000</td>\n",
       "      <td>0.000000</td>\n",
       "      <td>0.00000</td>\n",
       "    </tr>\n",
       "    <tr>\n",
       "      <th>75%</th>\n",
       "      <td>1.00000</td>\n",
       "      <td>0.000000</td>\n",
       "      <td>0.000000</td>\n",
       "      <td>0.000000</td>\n",
       "      <td>0.000000</td>\n",
       "      <td>0.000000</td>\n",
       "      <td>0.000000</td>\n",
       "      <td>1.00000</td>\n",
       "      <td>0.00000</td>\n",
       "      <td>0.000000</td>\n",
       "      <td>0.000000</td>\n",
       "      <td>0.000000</td>\n",
       "      <td>0.000000</td>\n",
       "      <td>0.000000</td>\n",
       "      <td>0.00000</td>\n",
       "      <td>0.000000</td>\n",
       "      <td>1.000000</td>\n",
       "      <td>0.000000</td>\n",
       "      <td>0.000000</td>\n",
       "      <td>0.00000</td>\n",
       "    </tr>\n",
       "    <tr>\n",
       "      <th>max</th>\n",
       "      <td>1.00000</td>\n",
       "      <td>2.000000</td>\n",
       "      <td>2.000000</td>\n",
       "      <td>4.000000</td>\n",
       "      <td>32302.000000</td>\n",
       "      <td>94106.000000</td>\n",
       "      <td>188252.000000</td>\n",
       "      <td>1.00000</td>\n",
       "      <td>1.00000</td>\n",
       "      <td>1.000000</td>\n",
       "      <td>1.000000</td>\n",
       "      <td>1.000000</td>\n",
       "      <td>1.000000</td>\n",
       "      <td>1.000000</td>\n",
       "      <td>1.00000</td>\n",
       "      <td>1.000000</td>\n",
       "      <td>1.000000</td>\n",
       "      <td>1.000000</td>\n",
       "      <td>1.000000</td>\n",
       "      <td>1.00000</td>\n",
       "    </tr>\n",
       "  </tbody>\n",
       "</table>\n",
       "</div>"
      ],
      "text/plain": [
       "         active_Red   has_Green_id   has_Black_id    has_Blue_id  \\\n",
       "count  100000.00000  100000.000000  100000.000000  100000.000000   \n",
       "mean        0.55874       0.008900       0.010840       0.138010   \n",
       "std         0.49654       0.094344       0.104032       0.360645   \n",
       "min         0.00000       0.000000       0.000000       0.000000   \n",
       "25%         0.00000       0.000000       0.000000       0.000000   \n",
       "50%         1.00000       0.000000       0.000000       0.000000   \n",
       "75%         1.00000       0.000000       0.000000       0.000000   \n",
       "max         1.00000       2.000000       2.000000       4.000000   \n",
       "\n",
       "       Blue_gmv_total  Green_gvm_total  Black_gvm_total   Red_android  \\\n",
       "count    99999.000000    100000.000000    100000.000000  100000.00000   \n",
       "mean         2.461165        59.934200        94.873080       0.32133   \n",
       "std        126.674718      1230.671036      1699.422723       0.46699   \n",
       "min          0.000000         0.000000         0.000000       0.00000   \n",
       "25%          0.000000         0.000000         0.000000       0.00000   \n",
       "50%          0.000000         0.000000         0.000000       0.00000   \n",
       "75%          0.000000         0.000000         0.000000       1.00000   \n",
       "max      32302.000000     94106.000000    188252.000000       1.00000   \n",
       "\n",
       "       Green_android  Black_android   Blue_android      Red_apple  \\\n",
       "count   100000.00000  100000.000000  100000.000000  100000.000000   \n",
       "mean         0.00546       0.010770       0.080470       0.108740   \n",
       "std          0.07369       0.103219       0.272021       0.311314   \n",
       "min          0.00000       0.000000       0.000000       0.000000   \n",
       "25%          0.00000       0.000000       0.000000       0.000000   \n",
       "50%          0.00000       0.000000       0.000000       0.000000   \n",
       "75%          0.00000       0.000000       0.000000       0.000000   \n",
       "max          1.00000       1.000000       1.000000       1.000000   \n",
       "\n",
       "         Green_apple    Black_apple    Blue_apple         is_msk  \\\n",
       "count  100000.000000  100000.000000  100000.00000  100000.000000   \n",
       "mean        0.006160       0.017820       0.04646       0.119210   \n",
       "std         0.078244       0.132297       0.21048       0.324037   \n",
       "min         0.000000       0.000000       0.00000       0.000000   \n",
       "25%         0.000000       0.000000       0.00000       0.000000   \n",
       "50%         0.000000       0.000000       0.00000       0.000000   \n",
       "75%         0.000000       0.000000       0.00000       0.000000   \n",
       "max         1.000000       1.000000       1.00000       1.000000   \n",
       "\n",
       "             Red_web      Green_web      Black_web      Blue_web  \n",
       "count  100000.000000  100000.000000  100000.000000  100000.00000  \n",
       "mean        0.671080       0.001980       0.014610       0.10640  \n",
       "std         0.469823       0.044453       0.119986       0.30835  \n",
       "min         0.000000       0.000000       0.000000       0.00000  \n",
       "25%         0.000000       0.000000       0.000000       0.00000  \n",
       "50%         1.000000       0.000000       0.000000       0.00000  \n",
       "75%         1.000000       0.000000       0.000000       0.00000  \n",
       "max         1.000000       1.000000       1.000000       1.00000  "
      ]
     },
     "execution_count": 127,
     "metadata": {},
     "output_type": "execute_result"
    }
   ],
   "source": [
    "df.describe()"
   ]
  },
  {
   "cell_type": "markdown",
   "id": "d5c781a5",
   "metadata": {},
   "source": [
    "### норм, нет повторяющихся id:"
   ]
  },
  {
   "cell_type": "code",
   "execution_count": 166,
   "id": "b823f85e",
   "metadata": {},
   "outputs": [
    {
     "data": {
      "text/plain": [
       "99475"
      ]
     },
     "execution_count": 166,
     "metadata": {},
     "output_type": "execute_result"
    }
   ],
   "source": [
    "df.HID.nunique()"
   ]
  },
  {
   "cell_type": "markdown",
   "id": "709fde2b",
   "metadata": {},
   "source": [
    "### Не все компании имеют полный набор данных -_- (например, нет столбца Red_gvm_order_count для компании Red). Возможно, есть опечатка Black_gvm_total и Green_gvm_total. Кроме этого, встречаются незаявленные столбцы (например, active_Red):"
   ]
  },
  {
   "cell_type": "code",
   "execution_count": 131,
   "id": "9c57ed72",
   "metadata": {},
   "outputs": [
    {
     "data": {
      "text/plain": [
       "Index(['HID', 'active_Red', 'has_Green_id', 'has_Black_id', 'has_Blue_id',\n",
       "       'Blue_activity_count', 'Blue_gmv_total', 'Green_gvm_total',\n",
       "       'Green_gvm_order_count', 'Black_gvm_total', 'Black_gvm_order_count',\n",
       "       'Red_android', 'Green_android', 'Black_android', 'Blue_android',\n",
       "       'Red_apple', 'Green_apple', 'Black_apple', 'Blue_apple', 'is_msk',\n",
       "       'Red_web', 'Green_web', 'Black_web', 'Blue_web'],\n",
       "      dtype='object')"
      ]
     },
     "execution_count": 131,
     "metadata": {},
     "output_type": "execute_result"
    }
   ],
   "source": [
    "df.columns"
   ]
  },
  {
   "cell_type": "code",
   "execution_count": 132,
   "id": "8030136e",
   "metadata": {},
   "outputs": [
    {
     "data": {
      "text/plain": [
       "array(['2.0', '0.0', '1.0', '17.0', '13.0', '5.0', '6.0', '26.0', '8.0',\n",
       "       '4.0', '27.0', '19.0', '12.0', '9.0', '3.0', '20.0', '10.0',\n",
       "       '23.0', '7.0', '16.0', '14.0', '15.0', '53.0',\n",
       "       datetime.datetime(2019, 5, 4, 0, 0), '32.0', '11.0', '18.0',\n",
       "       '24.0', '119.0', '49.0', '39.0', '21.0',\n",
       "       datetime.datetime(2019, 5, 7, 0, 0), '35.0', '72.0', '30.0',\n",
       "       '71.0', '28.0', '42.0', '34.0', '41.0', '22.0', '29.0', '36.0',\n",
       "       '90.0', '40.0', '43.0', datetime.datetime(2019, 5, 1, 0, 0),\n",
       "       '51.0', '44.0', '25.0', '31.0', '45.0', '67.0', '33.0', '101.0',\n",
       "       '74.0', '46.0', '111.0', '66.0', '38.0', '63.0', '100.0', '237.0',\n",
       "       '59.0', datetime.datetime(2019, 5, 3, 0, 0),\n",
       "       datetime.datetime(2019, 5, 6, 0, 0), '37.0', '47.0'], dtype=object)"
      ]
     },
     "execution_count": 132,
     "metadata": {},
     "output_type": "execute_result"
    }
   ],
   "source": [
    "df.Blue_activity_count.unique()"
   ]
  },
  {
   "cell_type": "markdown",
   "id": "54c40439",
   "metadata": {},
   "source": [
    "### Наличие подразумевает только значения \"1\" и \"0\", но среди уникальных значений присутствует \"2\". Удалим соответствующие строки:"
   ]
  },
  {
   "cell_type": "code",
   "execution_count": 133,
   "id": "5d3cdb62",
   "metadata": {},
   "outputs": [
    {
     "data": {
      "text/plain": [
       "array([0., 1., 2.])"
      ]
     },
     "execution_count": 133,
     "metadata": {},
     "output_type": "execute_result"
    }
   ],
   "source": [
    "df.has_Green_id.unique()"
   ]
  },
  {
   "cell_type": "code",
   "execution_count": 147,
   "id": "3b2433f7",
   "metadata": {},
   "outputs": [],
   "source": [
    "has_id_cols = ['has_Green_id', 'has_Black_id', 'has_Blue_id']"
   ]
  },
  {
   "cell_type": "code",
   "execution_count": 150,
   "id": "407e95be",
   "metadata": {},
   "outputs": [],
   "source": [
    "for cols in has_id_cols:\n",
    "    df = df.drop(df[(df[cols] != 1) & (df[cols] != 0)].index, inplace=False)"
   ]
  },
  {
   "cell_type": "code",
   "execution_count": 155,
   "id": "5661d9e2",
   "metadata": {},
   "outputs": [
    {
     "data": {
      "text/plain": [
       "array([0., 1.])"
      ]
     },
     "execution_count": 155,
     "metadata": {},
     "output_type": "execute_result"
    }
   ],
   "source": [
    "df.has_Green_id.unique()"
   ]
  },
  {
   "cell_type": "code",
   "execution_count": 154,
   "id": "b3b76d9d",
   "metadata": {},
   "outputs": [
    {
     "data": {
      "text/html": [
       "<div>\n",
       "<style scoped>\n",
       "    .dataframe tbody tr th:only-of-type {\n",
       "        vertical-align: middle;\n",
       "    }\n",
       "\n",
       "    .dataframe tbody tr th {\n",
       "        vertical-align: top;\n",
       "    }\n",
       "\n",
       "    .dataframe thead th {\n",
       "        text-align: right;\n",
       "    }\n",
       "</style>\n",
       "<table border=\"1\" class=\"dataframe\">\n",
       "  <thead>\n",
       "    <tr style=\"text-align: right;\">\n",
       "      <th></th>\n",
       "      <th>HID</th>\n",
       "      <th>active_Red</th>\n",
       "      <th>has_Green_id</th>\n",
       "      <th>has_Black_id</th>\n",
       "      <th>has_Blue_id</th>\n",
       "      <th>Blue_activity_count</th>\n",
       "      <th>Blue_gmv_total</th>\n",
       "      <th>Green_gvm_total</th>\n",
       "      <th>Green_gvm_order_count</th>\n",
       "      <th>Black_gvm_total</th>\n",
       "      <th>...</th>\n",
       "      <th>Blue_android</th>\n",
       "      <th>Red_apple</th>\n",
       "      <th>Green_apple</th>\n",
       "      <th>Black_apple</th>\n",
       "      <th>Blue_apple</th>\n",
       "      <th>is_msk</th>\n",
       "      <th>Red_web</th>\n",
       "      <th>Green_web</th>\n",
       "      <th>Black_web</th>\n",
       "      <th>Blue_web</th>\n",
       "    </tr>\n",
       "  </thead>\n",
       "  <tbody>\n",
       "    <tr>\n",
       "      <th>0</th>\n",
       "      <td>00003c7fb5e57ce673f1801f3679f5c25</td>\n",
       "      <td>0.0</td>\n",
       "      <td>0.0</td>\n",
       "      <td>0.0</td>\n",
       "      <td>1.0</td>\n",
       "      <td>2.0</td>\n",
       "      <td>0.0</td>\n",
       "      <td>0.0</td>\n",
       "      <td>0.0</td>\n",
       "      <td>0.0</td>\n",
       "      <td>...</td>\n",
       "      <td>0.0</td>\n",
       "      <td>0.0</td>\n",
       "      <td>0.0</td>\n",
       "      <td>0.0</td>\n",
       "      <td>0.0</td>\n",
       "      <td>0.0</td>\n",
       "      <td>0.0</td>\n",
       "      <td>0.0</td>\n",
       "      <td>0.0</td>\n",
       "      <td>0.0</td>\n",
       "    </tr>\n",
       "    <tr>\n",
       "      <th>1</th>\n",
       "      <td>00006b602533083e3bebfcbff08613931</td>\n",
       "      <td>1.0</td>\n",
       "      <td>0.0</td>\n",
       "      <td>0.0</td>\n",
       "      <td>0.0</td>\n",
       "      <td>0.0</td>\n",
       "      <td>0.0</td>\n",
       "      <td>0.0</td>\n",
       "      <td>0.0</td>\n",
       "      <td>0.0</td>\n",
       "      <td>...</td>\n",
       "      <td>0.0</td>\n",
       "      <td>0.0</td>\n",
       "      <td>0.0</td>\n",
       "      <td>0.0</td>\n",
       "      <td>0.0</td>\n",
       "      <td>0.0</td>\n",
       "      <td>1.0</td>\n",
       "      <td>0.0</td>\n",
       "      <td>0.0</td>\n",
       "      <td>0.0</td>\n",
       "    </tr>\n",
       "    <tr>\n",
       "      <th>2</th>\n",
       "      <td>0000736c3f76339196cb1cc759b8363b</td>\n",
       "      <td>1.0</td>\n",
       "      <td>0.0</td>\n",
       "      <td>0.0</td>\n",
       "      <td>0.0</td>\n",
       "      <td>0.0</td>\n",
       "      <td>0.0</td>\n",
       "      <td>0.0</td>\n",
       "      <td>0.0</td>\n",
       "      <td>0.0</td>\n",
       "      <td>...</td>\n",
       "      <td>0.0</td>\n",
       "      <td>1.0</td>\n",
       "      <td>0.0</td>\n",
       "      <td>1.0</td>\n",
       "      <td>0.0</td>\n",
       "      <td>0.0</td>\n",
       "      <td>0.0</td>\n",
       "      <td>0.0</td>\n",
       "      <td>0.0</td>\n",
       "      <td>0.0</td>\n",
       "    </tr>\n",
       "    <tr>\n",
       "      <th>3</th>\n",
       "      <td>00009bdcc5307b38efde8690b8bd658e</td>\n",
       "      <td>0.0</td>\n",
       "      <td>0.0</td>\n",
       "      <td>0.0</td>\n",
       "      <td>0.0</td>\n",
       "      <td>0.0</td>\n",
       "      <td>0.0</td>\n",
       "      <td>0.0</td>\n",
       "      <td>0.0</td>\n",
       "      <td>0.0</td>\n",
       "      <td>...</td>\n",
       "      <td>0.0</td>\n",
       "      <td>0.0</td>\n",
       "      <td>0.0</td>\n",
       "      <td>0.0</td>\n",
       "      <td>0.0</td>\n",
       "      <td>0.0</td>\n",
       "      <td>1.0</td>\n",
       "      <td>0.0</td>\n",
       "      <td>0.0</td>\n",
       "      <td>0.0</td>\n",
       "    </tr>\n",
       "    <tr>\n",
       "      <th>4</th>\n",
       "      <td>0000bc3186b7b31d9b35d3fbbb250b9f8</td>\n",
       "      <td>1.0</td>\n",
       "      <td>0.0</td>\n",
       "      <td>0.0</td>\n",
       "      <td>0.0</td>\n",
       "      <td>0.0</td>\n",
       "      <td>0.0</td>\n",
       "      <td>0.0</td>\n",
       "      <td>0.0</td>\n",
       "      <td>0.0</td>\n",
       "      <td>...</td>\n",
       "      <td>0.0</td>\n",
       "      <td>1.0</td>\n",
       "      <td>0.0</td>\n",
       "      <td>0.0</td>\n",
       "      <td>0.0</td>\n",
       "      <td>0.0</td>\n",
       "      <td>0.0</td>\n",
       "      <td>0.0</td>\n",
       "      <td>0.0</td>\n",
       "      <td>0.0</td>\n",
       "    </tr>\n",
       "    <tr>\n",
       "      <th>...</th>\n",
       "      <td>...</td>\n",
       "      <td>...</td>\n",
       "      <td>...</td>\n",
       "      <td>...</td>\n",
       "      <td>...</td>\n",
       "      <td>...</td>\n",
       "      <td>...</td>\n",
       "      <td>...</td>\n",
       "      <td>...</td>\n",
       "      <td>...</td>\n",
       "      <td>...</td>\n",
       "      <td>...</td>\n",
       "      <td>...</td>\n",
       "      <td>...</td>\n",
       "      <td>...</td>\n",
       "      <td>...</td>\n",
       "      <td>...</td>\n",
       "      <td>...</td>\n",
       "      <td>...</td>\n",
       "      <td>...</td>\n",
       "      <td>...</td>\n",
       "    </tr>\n",
       "    <tr>\n",
       "      <th>99995</th>\n",
       "      <td>32555ec33d762588db3253b063525f03b58f</td>\n",
       "      <td>0.0</td>\n",
       "      <td>0.0</td>\n",
       "      <td>0.0</td>\n",
       "      <td>0.0</td>\n",
       "      <td>0.0</td>\n",
       "      <td>0.0</td>\n",
       "      <td>0.0</td>\n",
       "      <td>0.0</td>\n",
       "      <td>0.0</td>\n",
       "      <td>...</td>\n",
       "      <td>0.0</td>\n",
       "      <td>0.0</td>\n",
       "      <td>0.0</td>\n",
       "      <td>0.0</td>\n",
       "      <td>0.0</td>\n",
       "      <td>1.0</td>\n",
       "      <td>1.0</td>\n",
       "      <td>0.0</td>\n",
       "      <td>0.0</td>\n",
       "      <td>0.0</td>\n",
       "    </tr>\n",
       "    <tr>\n",
       "      <th>99996</th>\n",
       "      <td>3255600b525b2598b37775fb3b25b3397bbb</td>\n",
       "      <td>1.0</td>\n",
       "      <td>0.0</td>\n",
       "      <td>0.0</td>\n",
       "      <td>0.0</td>\n",
       "      <td>0.0</td>\n",
       "      <td>0.0</td>\n",
       "      <td>0.0</td>\n",
       "      <td>0.0</td>\n",
       "      <td>0.0</td>\n",
       "      <td>...</td>\n",
       "      <td>0.0</td>\n",
       "      <td>0.0</td>\n",
       "      <td>0.0</td>\n",
       "      <td>0.0</td>\n",
       "      <td>0.0</td>\n",
       "      <td>0.0</td>\n",
       "      <td>1.0</td>\n",
       "      <td>0.0</td>\n",
       "      <td>0.0</td>\n",
       "      <td>0.0</td>\n",
       "    </tr>\n",
       "    <tr>\n",
       "      <th>99997</th>\n",
       "      <td>325563dbbb35c393be38c5c79373ed180</td>\n",
       "      <td>1.0</td>\n",
       "      <td>0.0</td>\n",
       "      <td>0.0</td>\n",
       "      <td>0.0</td>\n",
       "      <td>0.0</td>\n",
       "      <td>0.0</td>\n",
       "      <td>0.0</td>\n",
       "      <td>0.0</td>\n",
       "      <td>0.0</td>\n",
       "      <td>...</td>\n",
       "      <td>0.0</td>\n",
       "      <td>0.0</td>\n",
       "      <td>0.0</td>\n",
       "      <td>0.0</td>\n",
       "      <td>0.0</td>\n",
       "      <td>0.0</td>\n",
       "      <td>0.0</td>\n",
       "      <td>0.0</td>\n",
       "      <td>0.0</td>\n",
       "      <td>0.0</td>\n",
       "    </tr>\n",
       "    <tr>\n",
       "      <th>99998</th>\n",
       "      <td>3255650825570bcc93bc9b076b0bfbb25e6</td>\n",
       "      <td>0.0</td>\n",
       "      <td>0.0</td>\n",
       "      <td>0.0</td>\n",
       "      <td>0.0</td>\n",
       "      <td>0.0</td>\n",
       "      <td>0.0</td>\n",
       "      <td>0.0</td>\n",
       "      <td>0.0</td>\n",
       "      <td>0.0</td>\n",
       "      <td>...</td>\n",
       "      <td>0.0</td>\n",
       "      <td>0.0</td>\n",
       "      <td>0.0</td>\n",
       "      <td>0.0</td>\n",
       "      <td>0.0</td>\n",
       "      <td>0.0</td>\n",
       "      <td>1.0</td>\n",
       "      <td>0.0</td>\n",
       "      <td>0.0</td>\n",
       "      <td>0.0</td>\n",
       "    </tr>\n",
       "    <tr>\n",
       "      <th>99999</th>\n",
       "      <td>325566ec18c0db59083f5f6bb1b5f93d5</td>\n",
       "      <td>0.0</td>\n",
       "      <td>0.0</td>\n",
       "      <td>0.0</td>\n",
       "      <td>0.0</td>\n",
       "      <td>0.0</td>\n",
       "      <td>0.0</td>\n",
       "      <td>0.0</td>\n",
       "      <td>0.0</td>\n",
       "      <td>0.0</td>\n",
       "      <td>...</td>\n",
       "      <td>0.0</td>\n",
       "      <td>0.0</td>\n",
       "      <td>0.0</td>\n",
       "      <td>0.0</td>\n",
       "      <td>0.0</td>\n",
       "      <td>0.0</td>\n",
       "      <td>1.0</td>\n",
       "      <td>0.0</td>\n",
       "      <td>0.0</td>\n",
       "      <td>0.0</td>\n",
       "    </tr>\n",
       "  </tbody>\n",
       "</table>\n",
       "<p>99475 rows × 24 columns</p>\n",
       "</div>"
      ],
      "text/plain": [
       "                                        HID  active_Red  has_Green_id  \\\n",
       "0         00003c7fb5e57ce673f1801f3679f5c25         0.0           0.0   \n",
       "1         00006b602533083e3bebfcbff08613931         1.0           0.0   \n",
       "2          0000736c3f76339196cb1cc759b8363b         1.0           0.0   \n",
       "3          00009bdcc5307b38efde8690b8bd658e         0.0           0.0   \n",
       "4         0000bc3186b7b31d9b35d3fbbb250b9f8         1.0           0.0   \n",
       "...                                     ...         ...           ...   \n",
       "99995  32555ec33d762588db3253b063525f03b58f         0.0           0.0   \n",
       "99996  3255600b525b2598b37775fb3b25b3397bbb         1.0           0.0   \n",
       "99997     325563dbbb35c393be38c5c79373ed180         1.0           0.0   \n",
       "99998   3255650825570bcc93bc9b076b0bfbb25e6         0.0           0.0   \n",
       "99999     325566ec18c0db59083f5f6bb1b5f93d5         0.0           0.0   \n",
       "\n",
       "       has_Black_id  has_Blue_id Blue_activity_count  Blue_gmv_total  \\\n",
       "0               0.0          1.0                 2.0             0.0   \n",
       "1               0.0          0.0                 0.0             0.0   \n",
       "2               0.0          0.0                 0.0             0.0   \n",
       "3               0.0          0.0                 0.0             0.0   \n",
       "4               0.0          0.0                 0.0             0.0   \n",
       "...             ...          ...                 ...             ...   \n",
       "99995           0.0          0.0                 0.0             0.0   \n",
       "99996           0.0          0.0                 0.0             0.0   \n",
       "99997           0.0          0.0                 0.0             0.0   \n",
       "99998           0.0          0.0                 0.0             0.0   \n",
       "99999           0.0          0.0                 0.0             0.0   \n",
       "\n",
       "       Green_gvm_total Green_gvm_order_count  Black_gvm_total  ...  \\\n",
       "0                  0.0                   0.0              0.0  ...   \n",
       "1                  0.0                   0.0              0.0  ...   \n",
       "2                  0.0                   0.0              0.0  ...   \n",
       "3                  0.0                   0.0              0.0  ...   \n",
       "4                  0.0                   0.0              0.0  ...   \n",
       "...                ...                   ...              ...  ...   \n",
       "99995              0.0                   0.0              0.0  ...   \n",
       "99996              0.0                   0.0              0.0  ...   \n",
       "99997              0.0                   0.0              0.0  ...   \n",
       "99998              0.0                   0.0              0.0  ...   \n",
       "99999              0.0                   0.0              0.0  ...   \n",
       "\n",
       "      Blue_android  Red_apple  Green_apple  Black_apple  Blue_apple  is_msk  \\\n",
       "0              0.0        0.0          0.0          0.0         0.0     0.0   \n",
       "1              0.0        0.0          0.0          0.0         0.0     0.0   \n",
       "2              0.0        1.0          0.0          1.0         0.0     0.0   \n",
       "3              0.0        0.0          0.0          0.0         0.0     0.0   \n",
       "4              0.0        1.0          0.0          0.0         0.0     0.0   \n",
       "...            ...        ...          ...          ...         ...     ...   \n",
       "99995          0.0        0.0          0.0          0.0         0.0     1.0   \n",
       "99996          0.0        0.0          0.0          0.0         0.0     0.0   \n",
       "99997          0.0        0.0          0.0          0.0         0.0     0.0   \n",
       "99998          0.0        0.0          0.0          0.0         0.0     0.0   \n",
       "99999          0.0        0.0          0.0          0.0         0.0     0.0   \n",
       "\n",
       "       Red_web  Green_web  Black_web  Blue_web  \n",
       "0          0.0        0.0        0.0       0.0  \n",
       "1          1.0        0.0        0.0       0.0  \n",
       "2          0.0        0.0        0.0       0.0  \n",
       "3          1.0        0.0        0.0       0.0  \n",
       "4          0.0        0.0        0.0       0.0  \n",
       "...        ...        ...        ...       ...  \n",
       "99995      1.0        0.0        0.0       0.0  \n",
       "99996      1.0        0.0        0.0       0.0  \n",
       "99997      0.0        0.0        0.0       0.0  \n",
       "99998      1.0        0.0        0.0       0.0  \n",
       "99999      1.0        0.0        0.0       0.0  \n",
       "\n",
       "[99475 rows x 24 columns]"
      ]
     },
     "execution_count": 154,
     "metadata": {},
     "output_type": "execute_result"
    }
   ],
   "source": [
    "df"
   ]
  },
  {
   "cell_type": "markdown",
   "id": "77c7c34a",
   "metadata": {},
   "source": [
    "### По такому же принципу порверим столбцы (company_android, company_apple, company_web, company, is_msk):"
   ]
  },
  {
   "cell_type": "code",
   "execution_count": 157,
   "id": "0c742477",
   "metadata": {},
   "outputs": [
    {
     "data": {
      "text/plain": [
       "array([0., 1.])"
      ]
     },
     "execution_count": 157,
     "metadata": {},
     "output_type": "execute_result"
    }
   ],
   "source": [
    "df.is_msk.unique()"
   ]
  },
  {
   "cell_type": "code",
   "execution_count": 159,
   "id": "e8180682",
   "metadata": {},
   "outputs": [],
   "source": [
    "aawm_cols = ['Red_android', 'Green_android', 'Black_android', 'Blue_android',\n",
    "       'Red_apple', 'Green_apple', 'Black_apple', 'Blue_apple', 'is_msk',\n",
    "       'Red_web', 'Green_web', 'Black_web', 'Blue_web']"
   ]
  },
  {
   "cell_type": "code",
   "execution_count": 161,
   "id": "efaa2ab8",
   "metadata": {},
   "outputs": [
    {
     "name": "stdout",
     "output_type": "stream",
     "text": [
      "[0. 1.]\n",
      "[0. 1.]\n",
      "[0. 1.]\n",
      "[0. 1.]\n",
      "[0. 1.]\n",
      "[0. 1.]\n",
      "[0. 1.]\n",
      "[0. 1.]\n",
      "[0. 1.]\n",
      "[0. 1.]\n",
      "[0. 1.]\n",
      "[0. 1.]\n",
      "[0. 1.]\n"
     ]
    }
   ],
   "source": [
    "for cols in aawm_cols:\n",
    "    print(df[cols].unique())"
   ]
  },
  {
   "cell_type": "markdown",
   "id": "1c634320",
   "metadata": {},
   "source": [
    "### норм."
   ]
  },
  {
   "cell_type": "markdown",
   "id": "a59c3e10",
   "metadata": {},
   "source": [
    "### А что с оставшимися столбцами?"
   ]
  },
  {
   "cell_type": "markdown",
   "id": "af57455d",
   "metadata": {},
   "source": [
    "### Red_activate пока оставим (хорошо бы выяснить что это). У других столбцов пул значений гораздо больше."
   ]
  },
  {
   "cell_type": "markdown",
   "id": "1ff1dfe6",
   "metadata": {},
   "source": [
    "### Начнём с активных действий:"
   ]
  },
  {
   "cell_type": "code",
   "execution_count": 250,
   "id": "80ed8c19",
   "metadata": {},
   "outputs": [],
   "source": [
    "from matplotlib.ticker import MultipleLocator"
   ]
  },
  {
   "cell_type": "code",
   "execution_count": 253,
   "id": "b7b23837",
   "metadata": {},
   "outputs": [
    {
     "data": {
      "text/plain": [
       "0.0      95922\n",
       "1.0       1280\n",
       "2.0        572\n",
       "3.0        385\n",
       "4.0        260\n",
       "         ...  \n",
       "74.0         1\n",
       "101.0        1\n",
       "67.0         1\n",
       "90.0         1\n",
       "47.0         1\n",
       "Name: Blue_activity_count, Length: 64, dtype: int64"
      ]
     },
     "execution_count": 253,
     "metadata": {},
     "output_type": "execute_result"
    }
   ],
   "source": [
    "df.Blue_activity_count.value_counts()"
   ]
  },
  {
   "cell_type": "code",
   "execution_count": 251,
   "id": "9f6cad03",
   "metadata": {},
   "outputs": [],
   "source": [
    "Blue_v_c = df.Blue_activity_count.value_counts()\n",
    "Blue_v_c.index = Blue_v_c.index.astype(float)\n",
    "Blue_v_c = Blue_v_c.sort_index()"
   ]
  },
  {
   "cell_type": "code",
   "execution_count": 252,
   "id": "272cc723",
   "metadata": {},
   "outputs": [
    {
     "data": {
      "image/png": "[encoded data removed]",
      "text/plain": [
       "<Figure size 1440x360 with 1 Axes>"
      ]
     },
     "metadata": {
      "needs_background": "light"
     },
     "output_type": "display_data"
    }
   ],
   "source": [
    "fig = plt.figure(figsize=(18, 5))\n",
    "b_v_c_plot = fig.subplots(1)\n",
    "#b_v_c_plot = fig.add_subplot(121)\n",
    "b_v_c_plot = Blue_v_c.plot(kind='bar')\n",
    "b_v_c_plot.grid()\n",
    "b_v_c_plot.xaxis.set_major_locator(MultipleLocator(base=10))\n",
    "plt.ylim([0, 600])\n",
    "plt.xlim([0, 50])\n",
    "plt.title('Blue_activity_count')\n",
    "plt.ylabel('frequency')\n",
    "plt.xlabel('value')\n",
    "\n",
    "plt.show()"
   ]
  },
  {
   "cell_type": "markdown",
   "id": "e5d968f8",
   "metadata": {},
   "source": [
    "### Вполне предсказуемые значения для количества активных действий пользователя в сервисе. Чем больше действий, тем меньше пользователей с таким количеством пользователей. Аномалий не обнаружено."
   ]
  },
  {
   "cell_type": "markdown",
   "id": "1c622dbc",
   "metadata": {},
   "source": [
    "### Теперь посмотрим на суммарный gmv (помним, в начале была выдвинута гипотеза про опечатки):"
   ]
  },
  {
   "cell_type": "code",
   "execution_count": 164,
   "id": "4a72c509",
   "metadata": {},
   "outputs": [
    {
     "data": {
      "text/plain": [
       "0.0       99070\n",
       "2.0          34\n",
       "4.0          18\n",
       "12.0         15\n",
       "200.0         7\n",
       "          ...  \n",
       "1360.0        1\n",
       "208.0         1\n",
       "2468.0        1\n",
       "3902.0        1\n",
       "878.0         1\n",
       "Name: Blue_gmv_total, Length: 224, dtype: int64"
      ]
     },
     "execution_count": 164,
     "metadata": {},
     "output_type": "execute_result"
    }
   ],
   "source": [
    "df.Blue_gmv_total.value_counts()"
   ]
  },
  {
   "cell_type": "code",
   "execution_count": 254,
   "id": "cb59a282",
   "metadata": {},
   "outputs": [],
   "source": [
    "Blue_g_t = df.Blue_gmv_total.value_counts()\n",
    "Blue_g_t.index = Blue_g_t.index.astype(float)\n",
    "Blue_g_t = Blue_g_t.sort_index()"
   ]
  },
  {
   "cell_type": "code",
   "execution_count": 256,
   "id": "90fd4a03",
   "metadata": {},
   "outputs": [],
   "source": [
    "Black_g_t = df.Black_gvm_total.value_counts()\n",
    "Black_g_t.index = Black_g_t.index.astype(float)\n",
    "Black_g_t = Black_g_t.sort_index()"
   ]
  },
  {
   "cell_type": "code",
   "execution_count": 258,
   "id": "c4104125",
   "metadata": {},
   "outputs": [],
   "source": [
    "Green_g_t = df.Green_gvm_total.value_counts()\n",
    "Green_g_t.index = Green_g_t.index.astype(float)\n",
    "Green_g_t = Green_g_t.sort_index()"
   ]
  },
  {
   "cell_type": "code",
   "execution_count": 282,
   "id": "833d0e11",
   "metadata": {},
   "outputs": [
    {
     "data": {
      "image/png": "[encoded data removed]",
      "text/plain": [
       "<Figure size 1080x1080 with 3 Axes>"
      ]
     },
     "metadata": {
      "needs_background": "light"
     },
     "output_type": "display_data"
    }
   ],
   "source": [
    "fig = plt.figure(figsize=(15, 15))\n",
    "#(b_g_t_plot, bk_g_t_plot, g_g_t_plot) = fig.subplots(3)\n",
    "#b_v_c_plot = fig.add_subplot(121)\n",
    "\n",
    "b_g_t_plot = fig.add_subplot(3, 1, 1)\n",
    "b_g_t_plot = Blue_g_t.plot(kind='bar')\n",
    "b_g_t_plot.grid()\n",
    "b_g_t_plot.xaxis.set_major_locator(MultipleLocator(base=10))\n",
    "plt.ylim([0, 40])\n",
    "#plt.xlim([0, 50])\n",
    "plt.title('Blue_gmv_total')\n",
    "plt.ylabel('frequency')\n",
    "plt.xlabel('value')\n",
    "\n",
    "bk_g_t_plot = fig.add_subplot(3, 1, 2)\n",
    "bk_g_t_plot = Black_g_t.plot(kind='bar')\n",
    "bk_g_t_plot.grid()\n",
    "bk_g_t_plot.xaxis.set_major_locator(MultipleLocator(base=100))\n",
    "plt.ylim([0, 3])\n",
    "plt.xlim([0, 300])\n",
    "plt.title('Black_gmv_total')\n",
    "plt.ylabel('frequency')\n",
    "plt.xlabel('value')\n",
    "\n",
    "g_g_t_plot = fig.add_subplot(3, 1, 3)\n",
    "g_g_t_plot = Green_g_t.plot(kind='bar')\n",
    "g_g_t_plot.grid()\n",
    "g_g_t_plot.xaxis.set_major_locator(MultipleLocator(base=100))\n",
    "plt.ylim([0, 10])\n",
    "plt.xlim([0, 300])\n",
    "plt.title('Green_gmv_total')\n",
    "plt.ylabel('frequency')\n",
    "plt.xlabel('value')\n",
    "\n",
    "fig.tight_layout()\n",
    "\n",
    "plt.show()"
   ]
  },
  {
   "cell_type": "markdown",
   "id": "5f492cd7",
   "metadata": {},
   "source": [
    "### Значения Blue отличаются от значений Black и Green. Возможно, в начале не было опечатки, но в интернете нет отдельной информации про показатель gvm, потэтому будем считать, что была опечатка и везде подразумевался gmv."
   ]
  },
  {
   "cell_type": "markdown",
   "id": "ef482893",
   "metadata": {},
   "source": [
    "### В основном распределение равномерное (логично). Но есть значения с особо высокой частотой. Для Blue характерны малые значение gmv, что указывать на то, что она не продает много товаров или услуг на своей платформе. Это может быть связано с различными факторами, такими как низкая популярность платформы, недостаточная реклама или маркетинг, конкуренция на рынке и т.д."
   ]
  },
  {
   "cell_type": "markdown",
   "id": "63feb5e5",
   "metadata": {},
   "source": [
    "### Neeeext!!!\n",
    "### Количество успешных заказов:"
   ]
  },
  {
   "cell_type": "code",
   "execution_count": 165,
   "id": "83c787c7",
   "metadata": {},
   "outputs": [
    {
     "data": {
      "text/plain": [
       "0.0     98410\n",
       "1.0       441\n",
       "2.0       184\n",
       "3.0       116\n",
       "4.0        79\n",
       "5.0        43\n",
       "6.0        32\n",
       "8.0        28\n",
       "7.0        21\n",
       "10.0       19\n",
       "9.0        16\n",
       "12.0       13\n",
       "11.0        8\n",
       "15.0        8\n",
       "14.0        6\n",
       "18.0        5\n",
       "26.0        5\n",
       "25.0        4\n",
       "13.0        4\n",
       "20.0        4\n",
       "22.0        3\n",
       "17.0        3\n",
       "19.0        3\n",
       "16.0        3\n",
       "21.0        2\n",
       "35.0        2\n",
       "51.0        2\n",
       "23.0        2\n",
       "37.0        1\n",
       "27.0        1\n",
       "33.0        1\n",
       "50.0        1\n",
       "29.0        1\n",
       "42.0        1\n",
       "60.0        1\n",
       "34.0        1\n",
       "36.0        1\n",
       "Name: Black_gvm_order_count, dtype: int64"
      ]
     },
     "execution_count": 165,
     "metadata": {},
     "output_type": "execute_result"
    }
   ],
   "source": [
    "df.Black_gvm_order_count.value_counts()"
   ]
  },
  {
   "cell_type": "code",
   "execution_count": 286,
   "id": "e3f7f39b",
   "metadata": {},
   "outputs": [],
   "source": [
    "Black_g_o_c = df.Black_gvm_order_count.value_counts()\n",
    "Black_g_o_c.index = Black_g_o_c.index.astype(float)\n",
    "Black_g_o_c = Black_g_o_c.sort_index()"
   ]
  },
  {
   "cell_type": "code",
   "execution_count": 287,
   "id": "5b57eb3f",
   "metadata": {},
   "outputs": [],
   "source": [
    "Green_g_o_c = df.Green_gvm_order_count.value_counts()\n",
    "Green_g_o_c.index = Green_g_o_c.index.astype(float)\n",
    "Green_g_o_c = Green_g_o_c.sort_index()"
   ]
  },
  {
   "cell_type": "code",
   "execution_count": 295,
   "id": "e683a480",
   "metadata": {},
   "outputs": [
    {
     "data": {
      "image/png": "[encoded data removed]",
      "text/plain": [
       "<Figure size 1080x720 with 2 Axes>"
      ]
     },
     "metadata": {
      "needs_background": "light"
     },
     "output_type": "display_data"
    }
   ],
   "source": [
    "fig = plt.figure(figsize=(15, 10))\n",
    "#(b_g_t_plot, bk_g_t_plot, g_g_t_plot) = fig.subplots(3)\n",
    "#b_v_c_plot = fig.add_subplot(121)\n",
    "\n",
    "bk_g_o_c_plot = fig.add_subplot(2, 1, 1)\n",
    "bk_g_o_c_plot = Black_g_o_c.plot(kind='bar')\n",
    "bk_g_o_c_plot.grid()\n",
    "#bk_g_o_c_plot.xaxis.set_major_locator(MultipleLocator(base=100))\n",
    "plt.ylim([0, 500])\n",
    "plt.xlim([0, 30])\n",
    "plt.title('Black_gvm_order_count')\n",
    "plt.ylabel('frequency')\n",
    "plt.xlabel('value')\n",
    "\n",
    "b_g_o_c_plot = fig.add_subplot(2, 1, 2)\n",
    "b_g_o_c_plot = Green_g_o_c.plot(kind='bar')\n",
    "b_g_o_c_plot.grid()\n",
    "#b_g_o_c_plot.xaxis.set_major_locator(MultipleLocator(base=10))\n",
    "plt.ylim([0, 300])\n",
    "plt.xlim([0, 30])\n",
    "plt.title('Green_gvm_order_count')\n",
    "plt.ylabel('frequency')\n",
    "plt.xlabel('value')\n",
    "\n",
    "fig.tight_layout()\n",
    "\n",
    "plt.show()"
   ]
  },
  {
   "cell_type": "markdown",
   "id": "899f0adc",
   "metadata": {},
   "source": [
    "### Такая же ситуация, что и с количеством активных пользователей (взаимосвязанные признаки). Посчитаем коэффициент корреляции:"
   ]
  },
  {
   "cell_type": "code",
   "execution_count": 315,
   "id": "47d3d8c0",
   "metadata": {},
   "outputs": [],
   "source": [
    "a1 = np.array(Blue_v_c)"
   ]
  },
  {
   "cell_type": "code",
   "execution_count": 316,
   "id": "43bd90c0",
   "metadata": {},
   "outputs": [
    {
     "data": {
      "text/plain": [
       "64"
      ]
     },
     "execution_count": 316,
     "metadata": {},
     "output_type": "execute_result"
    }
   ],
   "source": [
    "len(a1)"
   ]
  },
  {
   "cell_type": "code",
   "execution_count": 317,
   "id": "11e58548",
   "metadata": {},
   "outputs": [],
   "source": [
    "a1 = a1[0:37]"
   ]
  },
  {
   "cell_type": "code",
   "execution_count": 318,
   "id": "c93b5c7e",
   "metadata": {},
   "outputs": [
    {
     "data": {
      "text/plain": [
       "37"
      ]
     },
     "execution_count": 318,
     "metadata": {},
     "output_type": "execute_result"
    }
   ],
   "source": [
    "len(a1)"
   ]
  },
  {
   "cell_type": "code",
   "execution_count": 319,
   "id": "3ad8bae9",
   "metadata": {},
   "outputs": [],
   "source": [
    "a2 = np.array(Black_g_o_c)"
   ]
  },
  {
   "cell_type": "code",
   "execution_count": 320,
   "id": "b1907938",
   "metadata": {},
   "outputs": [
    {
     "data": {
      "text/plain": [
       "37"
      ]
     },
     "execution_count": 320,
     "metadata": {},
     "output_type": "execute_result"
    }
   ],
   "source": [
    "len(a2)"
   ]
  },
  {
   "cell_type": "code",
   "execution_count": 321,
   "id": "e81b17c4",
   "metadata": {},
   "outputs": [
    {
     "data": {
      "text/plain": [
       "array([[1.        , 0.99995187],\n",
       "       [0.99995187, 1.        ]])"
      ]
     },
     "execution_count": 321,
     "metadata": {},
     "output_type": "execute_result"
    }
   ],
   "source": [
    "np.corrcoef(a1, a2)"
   ]
  },
  {
   "cell_type": "markdown",
   "id": "c6c31c66",
   "metadata": {},
   "source": [
    "### Годно, связь присутствует."
   ]
  },
  {
   "cell_type": "markdown",
   "id": "f13db1e5",
   "metadata": {},
   "source": [
    "### Возможно, мы можем определить находятся ли магазины (офисы) какой-нибудь компании в Москве. Попробуем это выяснить:"
   ]
  },
  {
   "cell_type": "code",
   "execution_count": 322,
   "id": "3d45e521",
   "metadata": {},
   "outputs": [],
   "source": [
    "import seaborn as sns"
   ]
  },
  {
   "cell_type": "code",
   "execution_count": 330,
   "id": "82f2e6c6",
   "metadata": {},
   "outputs": [
    {
     "data": {
      "text/plain": [
       "<AxesSubplot:>"
      ]
     },
     "execution_count": 330,
     "metadata": {},
     "output_type": "execute_result"
    },
    {
     "data": {
      "image/png": "[encoded data removed]",
      "text/plain": [
       "<Figure size 1080x720 with 2 Axes>"
      ]
     },
     "metadata": {
      "needs_background": "light"
     },
     "output_type": "display_data"
    }
   ],
   "source": [
    "plt.subplots(figsize=(15,10))\n",
    "sns.heatmap(df.corr())"
   ]
  },
  {
   "cell_type": "markdown",
   "id": "cea75ed2",
   "metadata": {},
   "source": [
    "### Пользователи, используют или только apple, или только android (два чёных квадрата 4х4)."
   ]
  },
  {
   "cell_type": "markdown",
   "id": "7593b5fb",
   "metadata": {},
   "source": [
    "### Вероятнее остальных Green базируется в Москве."
   ]
  },
  {
   "cell_type": "code",
   "execution_count": null,
   "id": "37372ecd",
   "metadata": {},
   "outputs": [],
   "source": []
  }
 ],
 "metadata": {
  "kernelspec": {
   "display_name": "Python 3 (ipykernel)",
   "language": "python",
   "name": "python3"
  },
  "language_info": {
   "codemirror_mode": {
    "name": "ipython",
    "version": 3
   },
   "file_extension": ".py",
   "mimetype": "text/x-python",
   "name": "python",
   "nbconvert_exporter": "python",
   "pygments_lexer": "ipython3",
   "version": "3.9.12"
  }
 },
 "nbformat": 4,
 "nbformat_minor": 5
}
